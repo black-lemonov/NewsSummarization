{
 "cells": [
  {
   "cell_type": "markdown",
   "id": "8086a8ca",
   "metadata": {},
   "source": [
    "### Анализ Датасет TNSum"
   ]
  },
  {
   "cell_type": "code",
   "execution_count": 1,
   "id": "d4f64dc5",
   "metadata": {},
   "outputs": [],
   "source": [
    "import pandas as pd\n",
    "import numpy as np\n",
    "import matplotlib.pyplot as plt\n",
    "import seaborn as sns\n",
    "\n",
    "pd.options.display.float_format ='{:,.3f}'.format # Для отображения данных без e"
   ]
  },
  {
   "cell_type": "code",
   "execution_count": null,
   "id": "7b5ce461",
   "metadata": {},
   "outputs": [
    {
     "name": "stderr",
     "output_type": "stream",
     "text": [
      "/home/egorp/MyProgs/uni/annotations/.venv/lib/python3.12/site-packages/tqdm/auto.py:21: TqdmWarning: IProgress not found. Please update jupyter and ipywidgets. See https://ipywidgets.readthedocs.io/en/stable/user_install.html\n",
      "  from .autonotebook import tqdm as notebook_tqdm\n",
      "Using the latest cached version of the dataset since CDA-RFTA/TNSum couldn't be found on the Hugging Face Hub\n",
      "Found the latest cached dataset configuration 'default' at /home/egorp/.cache/huggingface/datasets/CDA-RFTA___tn_sum/default/0.0.0/49a0392b2edea032a112c4b428079a5c8854af8b (last modified on Wed Apr 30 21:44:35 2025).\n"
     ]
    }
   ],
   "source": [
    "from datasets import load_dataset\n",
    "\n",
    "raw_data = load_dataset(\"CDA-RFTA/TNSum\", split=\"train\")\n",
    "raw_data = pd.DataFrame(raw_data)\n",
    "raw_data.to_csv(\"tnsum_dataset.csv\")"
   ]
  },
  {
   "cell_type": "code",
   "execution_count": 3,
   "id": "ebd4cc11",
   "metadata": {},
   "outputs": [
    {
     "data": {
      "text/html": [
       "<div>\n",
       "<style scoped>\n",
       "    .dataframe tbody tr th:only-of-type {\n",
       "        vertical-align: middle;\n",
       "    }\n",
       "\n",
       "    .dataframe tbody tr th {\n",
       "        vertical-align: top;\n",
       "    }\n",
       "\n",
       "    .dataframe thead th {\n",
       "        text-align: right;\n",
       "    }\n",
       "</style>\n",
       "<table border=\"1\" class=\"dataframe\">\n",
       "  <thead>\n",
       "    <tr style=\"text-align: right;\">\n",
       "      <th></th>\n",
       "      <th>text</th>\n",
       "      <th>summary</th>\n",
       "    </tr>\n",
       "  </thead>\n",
       "  <tbody>\n",
       "    <tr>\n",
       "      <th>0</th>\n",
       "      <td>На фоне истощения запасов вооружения в западны...</td>\n",
       "      <td>На фоне истощения запасов вооружения в западны...</td>\n",
       "    </tr>\n",
       "    <tr>\n",
       "      <th>1</th>\n",
       "      <td>ДОХА, 21 ноя —ПРАЙМ. Катарская национальная не...</td>\n",
       "      <td>Катарская национальная нефтегазовая компания Q...</td>\n",
       "    </tr>\n",
       "    <tr>\n",
       "      <th>2</th>\n",
       "      <td>Россия обсудит с ОНН вопрос о возобновлении по...</td>\n",
       "      <td>Россия обсудит с ООН вопрос о возобновлении по...</td>\n",
       "    </tr>\n",
       "    <tr>\n",
       "      <th>3</th>\n",
       "      <td>Евгений Томихин указал, что эта тема обсуждает...</td>\n",
       "      <td>Посол РФ выразил надежду на подвижки в вопросе...</td>\n",
       "    </tr>\n",
       "    <tr>\n",
       "      <th>4</th>\n",
       "      <td>МОСКВА, 23 ноя — ПРАЙМ. Индонезии требуются ин...</td>\n",
       "      <td>Индонезии требуются инвестиции в размере 179 м...</td>\n",
       "    </tr>\n",
       "    <tr>\n",
       "      <th>...</th>\n",
       "      <td>...</td>\n",
       "      <td>...</td>\n",
       "    </tr>\n",
       "    <tr>\n",
       "      <th>26916</th>\n",
       "      <td>МОСКВА, 29 ноября. /ТАСС/. Компания Uranium On...</td>\n",
       "      <td>29 ноября 2021 года компания Uranium One Holdi...</td>\n",
       "    </tr>\n",
       "    <tr>\n",
       "      <th>26917</th>\n",
       "      <td>«Российские и индийские специалисты провели бо...</td>\n",
       "      <td>Россия и Индия подписали контракт о совместном...</td>\n",
       "    </tr>\n",
       "    <tr>\n",
       "      <th>26918</th>\n",
       "      <td>МОСКВА, 6 дек — ПРАЙМ. Совместное российско-ин...</td>\n",
       "      <td>Совместное российско-индийское предприятие в и...</td>\n",
       "    </tr>\n",
       "    <tr>\n",
       "      <th>26919</th>\n",
       "      <td>НЬЮ-ДЕЛИ, 6 декабря. /ТАСС/. Индия приложит ус...</td>\n",
       "      <td>Индия приложит усилия для официального выделен...</td>\n",
       "    </tr>\n",
       "    <tr>\n",
       "      <th>26920</th>\n",
       "      <td>БУЭНОС-АЙРЕС, 8 декабря. /ТАСС/. Аргентинская ...</td>\n",
       "      <td>Аргентинская сторона интересуется возможностью...</td>\n",
       "    </tr>\n",
       "  </tbody>\n",
       "</table>\n",
       "<p>26921 rows × 2 columns</p>\n",
       "</div>"
      ],
      "text/plain": [
       "                                                    text  \\\n",
       "0      На фоне истощения запасов вооружения в западны...   \n",
       "1      ДОХА, 21 ноя —ПРАЙМ. Катарская национальная не...   \n",
       "2      Россия обсудит с ОНН вопрос о возобновлении по...   \n",
       "3      Евгений Томихин указал, что эта тема обсуждает...   \n",
       "4      МОСКВА, 23 ноя — ПРАЙМ. Индонезии требуются ин...   \n",
       "...                                                  ...   \n",
       "26916  МОСКВА, 29 ноября. /ТАСС/. Компания Uranium On...   \n",
       "26917  «Российские и индийские специалисты провели бо...   \n",
       "26918  МОСКВА, 6 дек — ПРАЙМ. Совместное российско-ин...   \n",
       "26919  НЬЮ-ДЕЛИ, 6 декабря. /ТАСС/. Индия приложит ус...   \n",
       "26920  БУЭНОС-АЙРЕС, 8 декабря. /ТАСС/. Аргентинская ...   \n",
       "\n",
       "                                                 summary  \n",
       "0      На фоне истощения запасов вооружения в западны...  \n",
       "1      Катарская национальная нефтегазовая компания Q...  \n",
       "2      Россия обсудит с ООН вопрос о возобновлении по...  \n",
       "3      Посол РФ выразил надежду на подвижки в вопросе...  \n",
       "4      Индонезии требуются инвестиции в размере 179 м...  \n",
       "...                                                  ...  \n",
       "26916  29 ноября 2021 года компания Uranium One Holdi...  \n",
       "26917  Россия и Индия подписали контракт о совместном...  \n",
       "26918  Совместное российско-индийское предприятие в и...  \n",
       "26919  Индия приложит усилия для официального выделен...  \n",
       "26920  Аргентинская сторона интересуется возможностью...  \n",
       "\n",
       "[26921 rows x 2 columns]"
      ]
     },
     "execution_count": 3,
     "metadata": {},
     "output_type": "execute_result"
    }
   ],
   "source": [
    "raw_data = pd.read_csv(\"../my_datasets/tnsum_dataset.csv\", index_col=0)\n",
    "raw_data"
   ]
  },
  {
   "cell_type": "code",
   "execution_count": 14,
   "id": "cfab61d8",
   "metadata": {},
   "outputs": [
    {
     "data": {
      "text/plain": [
       "text       0\n",
       "summary    0\n",
       "dtype: int64"
      ]
     },
     "execution_count": 14,
     "metadata": {},
     "output_type": "execute_result"
    }
   ],
   "source": [
    "raw_data.isna().sum()"
   ]
  },
  {
   "cell_type": "code",
   "execution_count": 15,
   "id": "a668d5f1",
   "metadata": {},
   "outputs": [
    {
     "name": "stdout",
     "output_type": "stream",
     "text": [
      "Размер датасета:  26921\n"
     ]
    }
   ],
   "source": [
    "print(\"Размер датасета: \", len(raw_data))"
   ]
  },
  {
   "cell_type": "code",
   "execution_count": 16,
   "id": "1862d2a0",
   "metadata": {},
   "outputs": [
    {
     "data": {
      "text/plain": [
       "Text(0, 0.5, 'Кол-во новостей')"
      ]
     },
     "execution_count": 16,
     "metadata": {},
     "output_type": "execute_result"
    },
    {
     "data": {
      "image/png": "[encoded data removed]",
      "text/plain": [
       "<Figure size 640x480 with 1 Axes>"
      ]
     },
     "metadata": {},
     "output_type": "display_data"
    }
   ],
   "source": [
    "sns.histplot(\n",
    "    raw_data[\"text\"].map(len)\n",
    ")\n",
    "plt.title(\"Длины новостей\")\n",
    "plt.xlabel(\"Длина (симв.)\")\n",
    "plt.ylabel(\"Кол-во новостей\")"
   ]
  },
  {
   "cell_type": "code",
   "execution_count": 17,
   "id": "d9d44595",
   "metadata": {},
   "outputs": [
    {
     "data": {
      "text/plain": [
       "count   26,921.000\n",
       "mean     1,984.220\n",
       "std      1,630.643\n",
       "min         38.000\n",
       "10%        791.000\n",
       "50%      1,580.000\n",
       "90%      3,543.000\n",
       "max     32,767.000\n",
       "Name: text, dtype: float64"
      ]
     },
     "execution_count": 17,
     "metadata": {},
     "output_type": "execute_result"
    }
   ],
   "source": [
    "raw_data[\"text\"].map(len).describe([0.1, 0.5, 0.9])"
   ]
  },
  {
   "cell_type": "code",
   "execution_count": 18,
   "id": "a163c504",
   "metadata": {},
   "outputs": [
    {
     "data": {
      "text/plain": [
       "Text(0, 0.5, 'Кол-во реф.')"
      ]
     },
     "execution_count": 18,
     "metadata": {},
     "output_type": "execute_result"
    },
    {
     "data": {
      "image/png": "[encoded data removed]",
      "text/plain": [
       "<Figure size 640x480 with 1 Axes>"
      ]
     },
     "metadata": {},
     "output_type": "display_data"
    }
   ],
   "source": [
    "sns.histplot(\n",
    "    raw_data[\"summary\"].map(len),\n",
    "    color=\"tomato\"\n",
    ")\n",
    "plt.title(\"Длины рефератов\")\n",
    "plt.xlabel(\"Длина (симв.)\")\n",
    "plt.ylabel(\"Кол-во реф.\")"
   ]
  },
  {
   "cell_type": "code",
   "execution_count": 19,
   "id": "68e4f25a",
   "metadata": {},
   "outputs": [
    {
     "data": {
      "text/plain": [
       "count   26,921.000\n",
       "mean       344.526\n",
       "std        241.208\n",
       "min         31.000\n",
       "10%        120.000\n",
       "50%        268.000\n",
       "90%        669.000\n",
       "max      2,689.000\n",
       "Name: summary, dtype: float64"
      ]
     },
     "execution_count": 19,
     "metadata": {},
     "output_type": "execute_result"
    }
   ],
   "source": [
    "raw_data[\"summary\"].map(len).describe([0.1, 0.5, 0.9])"
   ]
  },
  {
   "cell_type": "markdown",
   "id": "4afec2e9",
   "metadata": {},
   "source": [
    "##### Очистка данных"
   ]
  },
  {
   "cell_type": "code",
   "execution_count": 20,
   "id": "4afa6e5a",
   "metadata": {},
   "outputs": [
    {
     "data": {
      "text/html": [
       "<div>\n",
       "<style scoped>\n",
       "    .dataframe tbody tr th:only-of-type {\n",
       "        vertical-align: middle;\n",
       "    }\n",
       "\n",
       "    .dataframe tbody tr th {\n",
       "        vertical-align: top;\n",
       "    }\n",
       "\n",
       "    .dataframe thead th {\n",
       "        text-align: right;\n",
       "    }\n",
       "</style>\n",
       "<table border=\"1\" class=\"dataframe\">\n",
       "  <thead>\n",
       "    <tr style=\"text-align: right;\">\n",
       "      <th></th>\n",
       "      <th>text</th>\n",
       "      <th>summary</th>\n",
       "    </tr>\n",
       "  </thead>\n",
       "  <tbody>\n",
       "    <tr>\n",
       "      <th>0</th>\n",
       "      <td>На фоне истощения запасов вооружения в западны...</td>\n",
       "      <td>На фоне истощения запасов вооружения в западны...</td>\n",
       "    </tr>\n",
       "    <tr>\n",
       "      <th>1</th>\n",
       "      <td>ДОХА, 21 ноя —ПРАЙМ. Катарская национальная не...</td>\n",
       "      <td>Катарская национальная нефтегазовая компания Q...</td>\n",
       "    </tr>\n",
       "    <tr>\n",
       "      <th>2</th>\n",
       "      <td>Россия обсудит с ОНН вопрос о возобновлении по...</td>\n",
       "      <td>Россия обсудит с ООН вопрос о возобновлении по...</td>\n",
       "    </tr>\n",
       "    <tr>\n",
       "      <th>3</th>\n",
       "      <td>Евгений Томихин указал, что эта тема обсуждает...</td>\n",
       "      <td>Посол РФ выразил надежду на подвижки в вопросе...</td>\n",
       "    </tr>\n",
       "    <tr>\n",
       "      <th>4</th>\n",
       "      <td>МОСКВА, 23 ноя — ПРАЙМ. Индонезии требуются ин...</td>\n",
       "      <td>Индонезии требуются инвестиции в размере 179 м...</td>\n",
       "    </tr>\n",
       "  </tbody>\n",
       "</table>\n",
       "</div>"
      ],
      "text/plain": [
       "                                                text  \\\n",
       "0  На фоне истощения запасов вооружения в западны...   \n",
       "1  ДОХА, 21 ноя —ПРАЙМ. Катарская национальная не...   \n",
       "2  Россия обсудит с ОНН вопрос о возобновлении по...   \n",
       "3  Евгений Томихин указал, что эта тема обсуждает...   \n",
       "4  МОСКВА, 23 ноя — ПРАЙМ. Индонезии требуются ин...   \n",
       "\n",
       "                                             summary  \n",
       "0  На фоне истощения запасов вооружения в западны...  \n",
       "1  Катарская национальная нефтегазовая компания Q...  \n",
       "2  Россия обсудит с ООН вопрос о возобновлении по...  \n",
       "3  Посол РФ выразил надежду на подвижки в вопросе...  \n",
       "4  Индонезии требуются инвестиции в размере 179 м...  "
      ]
     },
     "execution_count": 20,
     "metadata": {},
     "output_type": "execute_result"
    }
   ],
   "source": [
    "raw_data.head(5)"
   ]
  },
  {
   "cell_type": "markdown",
   "id": "76e54b8b",
   "metadata": {},
   "source": [
    "Как видно, некоторые новости из датасет содержат названия новостных агенств и некоторую дополнительную информацию. При токенизации текста, подобные метки могут быть ошибочно определены как отдельные предложения. Проблема состоит в том, что эти предложения не имеет смысловой ценности и лишь вносят шум в данные поэтому их необходимо удалить. "
   ]
  },
  {
   "cell_type": "markdown",
   "id": "00131f83",
   "metadata": {},
   "source": [
    "Найдем названия всех новостных агенств при помощи регуярных выражений."
   ]
  },
  {
   "cell_type": "code",
   "execution_count": 4,
   "id": "282cdf24",
   "metadata": {},
   "outputs": [],
   "source": [
    "abbr_pat = r\"[А-Я][А-Я]+, \\d{1,2}.{5,10}[A-Я][А-Я]+. \" "
   ]
  },
  {
   "cell_type": "code",
   "execution_count": 22,
   "id": "5d0fc67d",
   "metadata": {},
   "outputs": [
    {
     "name": "stdout",
     "output_type": "stream",
     "text": [
      "Аббревиатур в тексте:  1607\n",
      "1           ДОХА, 21 ноя —ПРАЙМ. \n",
      "4        МОСКВА, 23 ноя — ПРАЙМ. \n",
      "7           МОСКВА, 23 ноя - РИА \n",
      "9          ВАРШАВА, 23 ноя – РИА \n",
      "23       МОСКВА, 23 ноя — ПРАЙМ. \n",
      "                   ...           \n",
      "26898       МОСКВА, 14 окт - РИА \n",
      "26903       МОСКВА, 29 окт - РИА \n",
      "26908       МОСКВА, 15 ноя — РИА \n",
      "26909      ДАБИ, 18 ноя — ПРАЙМ. \n",
      "26918     МОСКВА, 6 дек — ПРАЙМ. \n",
      "Name: text, Length: 2790, dtype: object\n"
     ]
    }
   ],
   "source": [
    "print(\"Аббревиатур в тексте: \", raw_data[\"text\"].str.findall(abbr_pat).explode().nunique())\n",
    "print(raw_data[\"text\"].str.findall(abbr_pat).explode().dropna())"
   ]
  },
  {
   "cell_type": "code",
   "execution_count": 23,
   "id": "03b882bf",
   "metadata": {},
   "outputs": [
    {
     "name": "stdout",
     "output_type": "stream",
     "text": [
      "Аббревиатур в рефератах:  16\n",
      "19386      МАДРИД, 20 сен — ПРАЙМ. \n",
      "19448      МОСКВА, 21 сен – ПРАЙМ, \n",
      "19458      БЕРЛИН, 21 сен — ПРАЙМ. \n",
      "19489      МОСКВА, 22 сен — ПРАЙМ. \n",
      "19509    БРЮССЕЛЬ, 22 сен — ПРАЙМ. \n",
      "19672      МОСКВА, 26 сен — ПРАЙМ, \n",
      "19805       МОСКВА, 2 окт — ПРАЙМ. \n",
      "20267      МОСКВА, 19 окт — ПРАЙМ. \n",
      "20282      МОСКВА, 19 окт — ПРАЙМ. \n",
      "20421    БУДАПЕШТ, 20 окт — ПРАЙМ. \n",
      "24738      МОСКВА, 21 сен — ПРАЙМ. \n",
      "24795      МОСКВА, 22 сен — ПРАЙМ. \n",
      "24810      МОСКВА, 22 сен — ПРАЙМ. \n",
      "24834      МОСКВА, 22 сен — ПРАЙМ. \n",
      "24849      МОСКВА, 22 сен — ПРАЙМ. \n",
      "24903      МОСКВА, 23 сен — ПРАЙМ. \n",
      "24924      МОСКВА, 23 сен — ПРАЙМ. \n",
      "24965      МОСКВА, 25 сен — ПРАЙМ. \n",
      "24980      МОСКВА, 25 сен — ПРАЙМ. \n",
      "24995      МОСКВА, 26 сен — ПРАЙМ. \n",
      "25067      МОСКВА, 27 сен — ПРАЙМ. \n",
      "25164     ТЕГЕРАН, 26 сен — ПРАЙМ. \n",
      "25687      МОСКВА, 20 окт — ПРАЙМ. \n",
      "25688      МОСКВА, 20 окт — ПРАЙМ. \n",
      "25709      МОСКВА, 20 окт — ПРАЙМ. \n",
      "Name: summary, dtype: object\n"
     ]
    }
   ],
   "source": [
    "print(\"Аббревиатур в рефератах: \", raw_data[\"summary\"].str.findall(abbr_pat).explode().nunique())\n",
    "print(raw_data[\"summary\"].str.findall(abbr_pat).explode().dropna())"
   ]
  },
  {
   "cell_type": "markdown",
   "id": "725e5a2a",
   "metadata": {},
   "source": [
    "Удалим все найденные аббревиатуры:"
   ]
  },
  {
   "cell_type": "code",
   "execution_count": 5,
   "id": "d60bb7d1",
   "metadata": {},
   "outputs": [],
   "source": [
    "raw_data[\"text\"] = raw_data[\"text\"].str.replace(abbr_pat, \"\", regex=True)\n",
    "raw_data[\"summary\"] = raw_data[\"summary\"].str.replace(abbr_pat, \"\", regex=True)"
   ]
  },
  {
   "cell_type": "markdown",
   "id": "03eb1a87",
   "metadata": {},
   "source": [
    "Можно заметить что некоторые новости все ещё содержат метки ТАСС, только в другом формате:"
   ]
  },
  {
   "cell_type": "code",
   "execution_count": 25,
   "id": "5a917e8e",
   "metadata": {},
   "outputs": [
    {
     "data": {
      "text/plain": [
       "26916    МОСКВА, 29 ноября. /ТАСС/. Компания Uranium On...\n",
       "26917    «Российские и индийские специалисты провели бо...\n",
       "26918    Совместное российско-индийское предприятие в и...\n",
       "26919    НЬЮ-ДЕЛИ, 6 декабря. /ТАСС/. Индия приложит ус...\n",
       "26920    БУЭНОС-АЙРЕС, 8 декабря. /ТАСС/. Аргентинская ...\n",
       "Name: text, dtype: object"
      ]
     },
     "execution_count": 25,
     "metadata": {},
     "output_type": "execute_result"
    }
   ],
   "source": [
    "raw_data[\"text\"].tail(5)"
   ]
  },
  {
   "cell_type": "markdown",
   "id": "3db0e548",
   "metadata": {},
   "source": [
    "Удалим все метки при помощи регулярного выражения:"
   ]
  },
  {
   "cell_type": "code",
   "execution_count": 6,
   "id": "f60fcd39",
   "metadata": {},
   "outputs": [],
   "source": [
    "tass_abbr_pat = r\"[А-Я][А-Я]+, \\d{1,2} [а-я]{3,8}. /[А-Я][А-Я]+/. \""
   ]
  },
  {
   "cell_type": "code",
   "execution_count": 7,
   "id": "dc6ad2b8",
   "metadata": {},
   "outputs": [
    {
     "name": "stdout",
     "output_type": "stream",
     "text": [
      "Аббревиатур в тексте:  2018\n",
      "3        МОСКВА, 21 ноября. /ТАСС/. \n",
      "19         ЙОРК, 23 ноября. /ТАСС/. \n",
      "24        МИНСК, 23 ноября. /ТАСС/. \n",
      "27       МОСКВА, 30 ноября. /ТАСС/. \n",
      "28         ЙОРК, 30 ноября. /ТАСС/. \n",
      "                    ...             \n",
      "26914    МОСКВА, 26 ноября. /ТАСС/. \n",
      "26915    МОСКВА, 29 ноября. /ТАСС/. \n",
      "26916    МОСКВА, 29 ноября. /ТАСС/. \n",
      "26919      ДЕЛИ, 6 декабря. /ТАСС/. \n",
      "26920     АЙРЕС, 8 декабря. /ТАСС/. \n",
      "Name: text, Length: 2618, dtype: object\n"
     ]
    }
   ],
   "source": [
    "print(\"Аббревиатур в тексте: \", raw_data[\"text\"].str.findall(tass_abbr_pat).explode().nunique())\n",
    "print(raw_data[\"text\"].str.findall(tass_abbr_pat).explode().dropna())"
   ]
  },
  {
   "cell_type": "code",
   "execution_count": 8,
   "id": "753bc740",
   "metadata": {},
   "outputs": [
    {
     "name": "stdout",
     "output_type": "stream",
     "text": [
      "Аббревиатур в рефератах:  0\n",
      "Series([], Name: summary, dtype: object)\n"
     ]
    }
   ],
   "source": [
    "print(\"Аббревиатур в рефератах: \", raw_data[\"summary\"].str.findall(tass_abbr_pat).explode().nunique())\n",
    "print(raw_data[\"summary\"].str.findall(tass_abbr_pat).explode().dropna())"
   ]
  },
  {
   "cell_type": "code",
   "execution_count": 9,
   "id": "ba6b9d3e",
   "metadata": {},
   "outputs": [],
   "source": [
    "raw_data[\"text\"] = raw_data[\"text\"].str.replace(tass_abbr_pat, \"\", regex=True)"
   ]
  },
  {
   "cell_type": "markdown",
   "id": "226d3660",
   "metadata": {},
   "source": [
    "Также в тексте все ещё присутствуют подобные аббревиатуры: "
   ]
  },
  {
   "cell_type": "code",
   "execution_count": 30,
   "id": "01990d5b",
   "metadata": {},
   "outputs": [
    {
     "data": {
      "text/plain": [
       "'Берлин, , 15:45 — REGNUM Германия начала переброску двух из трех американских систем противоракетной обороны (ПРО) Patriot в Польшу, сообщает агентство DPA. ЗРК Patriot Иван Шилов (с) ИА REGNUM Ожидается, что системы ПРО должны быть развернуты в районе города Замосць на юго-востоке Польши. По данным агентства, целью Германии является оказание помощи Польше в защите воздушного пространства, а также укрепление восточного фланга НАТО. Как сообщало ИА REGNUM, ранее на тот момент министр обороны Германии Кристина Ламбрехт заявила, что падение ракеты, запущенной киевским режимом, в Польше выявило серьёзные бреши в системе противовоздушной обороны Европы. Читайте ранее в этом сюжете: В Германии рассказали о проблемах в европейской системе ПВО'"
      ]
     },
     "execution_count": 30,
     "metadata": {},
     "output_type": "execute_result"
    }
   ],
   "source": [
    "raw_data[\"text\"][1000]"
   ]
  },
  {
   "cell_type": "markdown",
   "id": "bf60bb4e",
   "metadata": {},
   "source": [
    "Составим регулярное выражение для данных аббревиатур:"
   ]
  },
  {
   "cell_type": "code",
   "execution_count": 10,
   "id": "9df6a6de",
   "metadata": {},
   "outputs": [],
   "source": [
    "abbr2_pat = r'[А-Я][а-я]+, , \\d{1,2}:\\d{1,2}.{3,5}[A-Z][A-Z]{1,10}.'"
   ]
  },
  {
   "cell_type": "code",
   "execution_count": 11,
   "id": "3e35f8da",
   "metadata": {},
   "outputs": [
    {
     "name": "stdout",
     "output_type": "stream",
     "text": [
      "Найдено аббревиатур в тексте: 607\n",
      "Найдено аббревиатур в рефератах: 44\n"
     ]
    }
   ],
   "source": [
    "print(\"Найдено аббревиатур в тексте:\", raw_data[\"text\"].str.findall(abbr2_pat).explode().dropna().nunique())\n",
    "print(\"Найдено аббревиатур в рефератах:\", raw_data[\"summary\"].str.findall(abbr2_pat).explode().dropna().nunique())"
   ]
  },
  {
   "cell_type": "markdown",
   "id": "7551613d",
   "metadata": {},
   "source": [
    "Удалим найденные аббревиатуры из текста:"
   ]
  },
  {
   "cell_type": "code",
   "execution_count": 12,
   "id": "86928e09",
   "metadata": {},
   "outputs": [],
   "source": [
    "raw_data[\"text\"] = raw_data[\"text\"].str.replace(abbr2_pat, \"\")\n",
    "raw_data[\"summary\"] = raw_data[\"summary\"].str.replace(abbr2_pat, \"\")"
   ]
  },
  {
   "cell_type": "markdown",
   "id": "6cd83786",
   "metadata": {},
   "source": [
    "Разобъем слова на токены для нахождения оставшихся элементов для очистки:"
   ]
  },
  {
   "cell_type": "code",
   "execution_count": 13,
   "id": "e51b6c5f",
   "metadata": {},
   "outputs": [],
   "source": [
    "from razdel import tokenize\n",
    "\n",
    "text_tokens = raw_data[\"text\"].map(\n",
    "    lambda text: [t.text for t in tokenize(text)]\n",
    ").explode()"
   ]
  },
  {
   "cell_type": "code",
   "execution_count": 14,
   "id": "118ba273",
   "metadata": {},
   "outputs": [
    {
     "data": {
      "text/plain": [
       "text\n",
       "soya-1879060062           1\n",
       "13,79                     1\n",
       "Houthi-run                1\n",
       "Sharaf                    1\n",
       "desecration               1\n",
       "Trademarks                1\n",
       "Momika                    1\n",
       "al-Adha                   1\n",
       "Evashnee                  1\n",
       "non-African               1\n",
       "20230704                  1\n",
       "agrarii-1882042558        1\n",
       "150699/62/1506996218_0    1\n",
       "304,9                     1\n",
       "субъектов-экспортеров     1\n",
       "456,8                     1\n",
       "Assal                     1\n",
       "EECA                      1\n",
       "LMTL                      1\n",
       "GCFR                      1\n",
       "Name: count, dtype: int64"
      ]
     },
     "execution_count": 14,
     "metadata": {},
     "output_type": "execute_result"
    }
   ],
   "source": [
    "text_tokens.value_counts(ascending=True).head(20)"
   ]
  },
  {
   "cell_type": "markdown",
   "id": "a4bfebca",
   "metadata": {},
   "source": [
    "Результаты показывают, что некоторые статьи содержат ссылки. Составим регулярное выражение для обнаружения таких ссылок в тексте:"
   ]
  },
  {
   "cell_type": "code",
   "execution_count": 15,
   "id": "7177fd46",
   "metadata": {},
   "outputs": [],
   "source": [
    "import re\n",
    "\n",
    "url_pat = re.compile(\n",
    "    r'(?i)\\b((?:https?://|www\\d{0,3}[.]|[a-z0-9.\\-]+[.][a-z]{2,4}/)'\n",
    "    r'(?:[^\\s()<>]+|\\(([^\\s()<>]+|(\\([^\\s()<>]+\\)))*\\))+'\n",
    "    r'(?:\\(([^\\s()<>]+|(\\([^\\s()<>]+\\)))*\\)|[^\\s`!()\\[\\]{};:\\'\".,<>?«»“”‘’]))'\n",
    ")"
   ]
  },
  {
   "cell_type": "code",
   "execution_count": 16,
   "id": "1fa01554",
   "metadata": {},
   "outputs": [
    {
     "name": "stdout",
     "output_type": "stream",
     "text": [
      "Найдено url в тексте: 2870\n",
      "Найдено url в рефератах: 2\n"
     ]
    }
   ],
   "source": [
    "print(\"Найдено url в тексте:\", raw_data[\"text\"].str.findall(url_pat).explode().dropna().nunique())\n",
    "print(\"Найдено url в рефератах:\", raw_data[\"summary\"].str.findall(url_pat).explode().dropna().nunique())"
   ]
  },
  {
   "cell_type": "markdown",
   "id": "443d712d",
   "metadata": {},
   "source": [
    "Вместо того, чтобы удалять URL из текста, предлагается удалить предложения, содержащие ссылки. Для этого выполним токенизацию текста по предложениям: "
   ]
  },
  {
   "cell_type": "code",
   "execution_count": 17,
   "id": "4871593c",
   "metadata": {},
   "outputs": [],
   "source": [
    "from razdel import sentenize\n",
    "text_sents = raw_data[\"text\"].map(lambda text: [s.text for s in sentenize(text)])"
   ]
  },
  {
   "cell_type": "code",
   "execution_count": 39,
   "id": "fccb6e88",
   "metadata": {},
   "outputs": [
    {
     "name": "stdout",
     "output_type": "stream",
     "text": [
      "Всего предложений: 337462\n"
     ]
    }
   ],
   "source": [
    "print(\"Всего предложений:\", len(text_sents.explode()))"
   ]
  },
  {
   "cell_type": "code",
   "execution_count": 18,
   "id": "f40593ba",
   "metadata": {},
   "outputs": [],
   "source": [
    "deleted_sents = text_sents.map(\n",
    "    lambda sents: [s for s in sents if url_pat.search(s)]\n",
    ")\n",
    "text_sents = text_sents.map(\n",
    "    lambda sents: [s for s in sents if not url_pat.search(s)]\n",
    ")"
   ]
  },
  {
   "cell_type": "code",
   "execution_count": 19,
   "id": "c1e953dd",
   "metadata": {},
   "outputs": [
    {
     "name": "stdout",
     "output_type": "stream",
     "text": [
      "Предложений без url: 334919\n",
      "Примеры удаленных предложений:\n",
      "7     https://ria.ru/20221123/uralkhim-1833567401.ht...\n",
      "7     РИА Новости, 23.11.2022 2022-11-23T10:24 2022-...\n",
      "7     \"Уралхим\" является материнской компанией \"Урал...\n",
      "9     https://ria.ru/20221123/gaz-1833605263.html Пр...\n",
      "9     РИА Новости, 23.11.2022 2022-11-23T12:12 2022-...\n",
      "9     И это меня беспокоит\", - добавил он.Европейска...\n",
      "25    https://ria.ru/20221123/udobreniya-1833562195....\n",
      "25    РИА Новости, 23.11.2022 2022-11-23T10:05 2022-...\n",
      "25    Срок действия меморандума, в свою очередь, сос...\n",
      "60    Регистрация на сайте РЭЦ до 13 декабря: https:...\n",
      "Name: text, dtype: object\n"
     ]
    }
   ],
   "source": [
    "print(\"Предложений без url:\", len(text_sents.explode()))\n",
    "print(\"Примеры удаленных предложений:\")\n",
    "print(deleted_sents.explode().dropna().head(10))\n",
    "del deleted_sents"
   ]
  },
  {
   "cell_type": "markdown",
   "id": "bd7e65d0",
   "metadata": {},
   "source": [
    "Аналогично удалим все ссылки из рефератов:"
   ]
  },
  {
   "cell_type": "code",
   "execution_count": 20,
   "id": "6f852c12",
   "metadata": {},
   "outputs": [
    {
     "name": "stdout",
     "output_type": "stream",
     "text": [
      "Всего предложений: 64932\n"
     ]
    }
   ],
   "source": [
    "summ_sents = raw_data[\"summary\"].map(lambda text: [s.text for s in sentenize(text)])\n",
    "print(\"Всего предложений:\", len(summ_sents.explode()))"
   ]
  },
  {
   "cell_type": "code",
   "execution_count": 21,
   "id": "752d7e08",
   "metadata": {},
   "outputs": [],
   "source": [
    "deleted_sents = summ_sents.map(\n",
    "    lambda sents: [s for s in sents if url_pat.search(s)]\n",
    ")\n",
    "summ_sents = summ_sents.map(\n",
    "    lambda sents: [s for s in sents if not url_pat.search(s)]\n",
    ")"
   ]
  },
  {
   "cell_type": "code",
   "execution_count": 22,
   "id": "692b5fb8",
   "metadata": {},
   "outputs": [
    {
     "name": "stdout",
     "output_type": "stream",
     "text": [
      "Предложений без url: 64930\n",
      "Примеры удаленных предложений:\n",
      "5452    Источник: https://milknews.ru/index/maslo/masl...\n",
      "9763    Организаторы Вэйхайской международной выставки...\n",
      "Name: summary, dtype: object\n"
     ]
    }
   ],
   "source": [
    "print(\"Предложений без url:\", len(summ_sents.explode()))\n",
    "print(\"Примеры удаленных предложений:\")\n",
    "print(deleted_sents.explode().dropna().head(10))\n",
    "del deleted_sents"
   ]
  },
  {
   "cell_type": "markdown",
   "id": "f89c1821",
   "metadata": {},
   "source": [
    "Датасет почти очищен и теперь важно добавить столбцы с информацией которая будет использоваться дальше для нормализации: "
   ]
  },
  {
   "cell_type": "code",
   "execution_count": 23,
   "id": "e7606b05",
   "metadata": {},
   "outputs": [],
   "source": [
    "text_lens = raw_data[\"text\"].map(len)\n",
    "sents_count = text_sents.map(len)\n",
    "sents_pos = text_sents.map(\n",
    "    lambda sents: list(range(1, len(sents)+1))\n",
    ")"
   ]
  },
  {
   "cell_type": "code",
   "execution_count": 24,
   "id": "2022102f",
   "metadata": {},
   "outputs": [
    {
     "name": "stdout",
     "output_type": "stream",
     "text": [
      "Размер датасета: 26921\n"
     ]
    }
   ],
   "source": [
    "clean_data = pd.concat(\n",
    "    [text_sents, summ_sents, text_lens, sents_count, sents_pos], \n",
    "    axis=1,\n",
    "    keys=[\"text\", \"summary\", \"text_len\", \"sents_count\", \"sents_pos\"]\n",
    ")\n",
    "print(\"Размер датасета:\", len(clean_data))"
   ]
  },
  {
   "cell_type": "markdown",
   "id": "7497c245",
   "metadata": {},
   "source": [
    "Сопоставим предложения текстов с рефератами. Если предложение есть в реферате присвоим ему метку 1, если его нет - 0."
   ]
  },
  {
   "cell_type": "code",
   "execution_count": 25,
   "id": "a917329f",
   "metadata": {},
   "outputs": [],
   "source": [
    "def sent_in_sum(row):\n",
    "    return sum(\n",
    "        [\n",
    "            1 if s in row[\"summary\"] else 0\n",
    "            for s in row[\"text\"]\n",
    "        ]\n",
    "    ) > 0"
   ]
  },
  {
   "cell_type": "code",
   "execution_count": 48,
   "id": "823f69fd",
   "metadata": {},
   "outputs": [
    {
     "data": {
      "text/html": [
       "<div>\n",
       "<style scoped>\n",
       "    .dataframe tbody tr th:only-of-type {\n",
       "        vertical-align: middle;\n",
       "    }\n",
       "\n",
       "    .dataframe tbody tr th {\n",
       "        vertical-align: top;\n",
       "    }\n",
       "\n",
       "    .dataframe thead th {\n",
       "        text-align: right;\n",
       "    }\n",
       "</style>\n",
       "<table border=\"1\" class=\"dataframe\">\n",
       "  <thead>\n",
       "    <tr style=\"text-align: right;\">\n",
       "      <th></th>\n",
       "      <th>text</th>\n",
       "      <th>summary</th>\n",
       "      <th>text_len</th>\n",
       "      <th>sents_count</th>\n",
       "      <th>sents_pos</th>\n",
       "    </tr>\n",
       "  </thead>\n",
       "  <tbody>\n",
       "    <tr>\n",
       "      <th>0</th>\n",
       "      <td>[На фоне истощения запасов вооружения в западн...</td>\n",
       "      <td>[На фоне истощения запасов вооружения в западн...</td>\n",
       "      <td>2287</td>\n",
       "      <td>17</td>\n",
       "      <td>[1, 2, 3, 4, 5, 6, 7, 8, 9, 10, 11, 12, 13, 14...</td>\n",
       "    </tr>\n",
       "    <tr>\n",
       "      <th>1</th>\n",
       "      <td>[Катарская национальная нефтегазовая компания ...</td>\n",
       "      <td>[Катарская национальная нефтегазовая компания ...</td>\n",
       "      <td>910</td>\n",
       "      <td>6</td>\n",
       "      <td>[1, 2, 3, 4, 5, 6]</td>\n",
       "    </tr>\n",
       "    <tr>\n",
       "      <th>2</th>\n",
       "      <td>[Россия обсудит с ОНН вопрос о возобновлении п...</td>\n",
       "      <td>[Россия обсудит с ООН вопрос о возобновлении п...</td>\n",
       "      <td>1175</td>\n",
       "      <td>11</td>\n",
       "      <td>[1, 2, 3, 4, 5, 6, 7, 8, 9, 10, 11]</td>\n",
       "    </tr>\n",
       "    <tr>\n",
       "      <th>3</th>\n",
       "      <td>[Евгений Томихин указал, что эта тема обсуждае...</td>\n",
       "      <td>[Посол РФ выразил надежду на подвижки в вопрос...</td>\n",
       "      <td>1294</td>\n",
       "      <td>10</td>\n",
       "      <td>[1, 2, 3, 4, 5, 6, 7, 8, 9, 10]</td>\n",
       "    </tr>\n",
       "    <tr>\n",
       "      <th>4</th>\n",
       "      <td>[Индонезии требуются инвестиции в размере 179 ...</td>\n",
       "      <td>[Индонезии требуются инвестиции в размере 179 ...</td>\n",
       "      <td>1285</td>\n",
       "      <td>9</td>\n",
       "      <td>[1, 2, 3, 4, 5, 6, 7, 8, 9]</td>\n",
       "    </tr>\n",
       "    <tr>\n",
       "      <th>...</th>\n",
       "      <td>...</td>\n",
       "      <td>...</td>\n",
       "      <td>...</td>\n",
       "      <td>...</td>\n",
       "      <td>...</td>\n",
       "    </tr>\n",
       "    <tr>\n",
       "      <th>26916</th>\n",
       "      <td>[Компания Uranium One Holding N. V. (предприят...</td>\n",
       "      <td>[29 ноября 2021 года компания Uranium One Hold...</td>\n",
       "      <td>1058</td>\n",
       "      <td>6</td>\n",
       "      <td>[1, 2, 3, 4, 5, 6]</td>\n",
       "    </tr>\n",
       "    <tr>\n",
       "      <th>26917</th>\n",
       "      <td>[«Российские и индийские специалисты провели б...</td>\n",
       "      <td>[Россия и Индия подписали контракт о совместно...</td>\n",
       "      <td>338</td>\n",
       "      <td>2</td>\n",
       "      <td>[1, 2]</td>\n",
       "    </tr>\n",
       "    <tr>\n",
       "      <th>26918</th>\n",
       "      <td>[Совместное российско-индийское предприятие в ...</td>\n",
       "      <td>[Совместное российско-индийское предприятие в ...</td>\n",
       "      <td>1133</td>\n",
       "      <td>7</td>\n",
       "      <td>[1, 2, 3, 4, 5, 6, 7]</td>\n",
       "    </tr>\n",
       "    <tr>\n",
       "      <th>26919</th>\n",
       "      <td>[НЬЮ-Индия приложит усилия для официального вы...</td>\n",
       "      <td>[Индия приложит усилия для официального выделе...</td>\n",
       "      <td>3538</td>\n",
       "      <td>20</td>\n",
       "      <td>[1, 2, 3, 4, 5, 6, 7, 8, 9, 10, 11, 12, 13, 14...</td>\n",
       "    </tr>\n",
       "    <tr>\n",
       "      <th>26920</th>\n",
       "      <td>[БУЭНОС-Аргентинская сторона интересуется возм...</td>\n",
       "      <td>[Аргентинская сторона интересуется возможность...</td>\n",
       "      <td>2250</td>\n",
       "      <td>17</td>\n",
       "      <td>[1, 2, 3, 4, 5, 6, 7, 8, 9, 10, 11, 12, 13, 14...</td>\n",
       "    </tr>\n",
       "  </tbody>\n",
       "</table>\n",
       "<p>26921 rows × 5 columns</p>\n",
       "</div>"
      ],
      "text/plain": [
       "                                                    text  \\\n",
       "0      [На фоне истощения запасов вооружения в западн...   \n",
       "1      [Катарская национальная нефтегазовая компания ...   \n",
       "2      [Россия обсудит с ОНН вопрос о возобновлении п...   \n",
       "3      [Евгений Томихин указал, что эта тема обсуждае...   \n",
       "4      [Индонезии требуются инвестиции в размере 179 ...   \n",
       "...                                                  ...   \n",
       "26916  [Компания Uranium One Holding N. V. (предприят...   \n",
       "26917  [«Российские и индийские специалисты провели б...   \n",
       "26918  [Совместное российско-индийское предприятие в ...   \n",
       "26919  [НЬЮ-Индия приложит усилия для официального вы...   \n",
       "26920  [БУЭНОС-Аргентинская сторона интересуется возм...   \n",
       "\n",
       "                                                 summary  text_len  \\\n",
       "0      [На фоне истощения запасов вооружения в западн...      2287   \n",
       "1      [Катарская национальная нефтегазовая компания ...       910   \n",
       "2      [Россия обсудит с ООН вопрос о возобновлении п...      1175   \n",
       "3      [Посол РФ выразил надежду на подвижки в вопрос...      1294   \n",
       "4      [Индонезии требуются инвестиции в размере 179 ...      1285   \n",
       "...                                                  ...       ...   \n",
       "26916  [29 ноября 2021 года компания Uranium One Hold...      1058   \n",
       "26917  [Россия и Индия подписали контракт о совместно...       338   \n",
       "26918  [Совместное российско-индийское предприятие в ...      1133   \n",
       "26919  [Индия приложит усилия для официального выделе...      3538   \n",
       "26920  [Аргентинская сторона интересуется возможность...      2250   \n",
       "\n",
       "       sents_count                                          sents_pos  \n",
       "0               17  [1, 2, 3, 4, 5, 6, 7, 8, 9, 10, 11, 12, 13, 14...  \n",
       "1                6                                 [1, 2, 3, 4, 5, 6]  \n",
       "2               11                [1, 2, 3, 4, 5, 6, 7, 8, 9, 10, 11]  \n",
       "3               10                    [1, 2, 3, 4, 5, 6, 7, 8, 9, 10]  \n",
       "4                9                        [1, 2, 3, 4, 5, 6, 7, 8, 9]  \n",
       "...            ...                                                ...  \n",
       "26916            6                                 [1, 2, 3, 4, 5, 6]  \n",
       "26917            2                                             [1, 2]  \n",
       "26918            7                              [1, 2, 3, 4, 5, 6, 7]  \n",
       "26919           20  [1, 2, 3, 4, 5, 6, 7, 8, 9, 10, 11, 12, 13, 14...  \n",
       "26920           17  [1, 2, 3, 4, 5, 6, 7, 8, 9, 10, 11, 12, 13, 14...  \n",
       "\n",
       "[26921 rows x 5 columns]"
      ]
     },
     "execution_count": 48,
     "metadata": {},
     "output_type": "execute_result"
    }
   ],
   "source": [
    "clean_data"
   ]
  },
  {
   "cell_type": "code",
   "execution_count": 26,
   "id": "9584764e",
   "metadata": {},
   "outputs": [
    {
     "name": "stdout",
     "output_type": "stream",
     "text": [
      "Реферат включает предложения для:  9148\n"
     ]
    }
   ],
   "source": [
    "sents_in_summ  = clean_data.apply(\n",
    "    lambda row: 1 if sent_in_sum(row) else 0,\n",
    "    axis=1\n",
    ")\n",
    "print(\"Реферат включает предложения для: \", sum(sents_in_summ))\n",
    "del sents_in_summ"
   ]
  },
  {
   "cell_type": "markdown",
   "id": "04d06be8",
   "metadata": {},
   "source": [
    "Удалим те записи, рефераты которых не включают предложения из исходного текста:"
   ]
  },
  {
   "cell_type": "code",
   "execution_count": 27,
   "id": "d23d9fcc",
   "metadata": {},
   "outputs": [
    {
     "name": "stdout",
     "output_type": "stream",
     "text": [
      "Размер датасета: 9148\n"
     ]
    }
   ],
   "source": [
    "clean_data = clean_data.apply(\n",
    "    lambda row: row if sent_in_sum(row) else None,\n",
    "    axis=1\n",
    ").dropna()\n",
    "print(\"Размер датасета:\", len(clean_data))"
   ]
  },
  {
   "cell_type": "markdown",
   "id": "dc6b9e28",
   "metadata": {},
   "source": [
    "Добавим метки вхождения в реферат:"
   ]
  },
  {
   "cell_type": "code",
   "execution_count": 28,
   "id": "a6879bca",
   "metadata": {},
   "outputs": [],
   "source": [
    "clean_data[\"labels\"] = clean_data.apply(\n",
    "    lambda row: [\n",
    "        1 if s in row[\"summary\"] else 0\n",
    "        for s in row[\"text\"]\n",
    "    ],\n",
    "    axis=1\n",
    ")"
   ]
  },
  {
   "cell_type": "markdown",
   "id": "7878c1dd",
   "metadata": {},
   "source": [
    "Удалим ненужный столбец:"
   ]
  },
  {
   "cell_type": "code",
   "execution_count": 29,
   "id": "ab500ff9",
   "metadata": {},
   "outputs": [],
   "source": [
    "clean_data = clean_data.drop(\"summary\", axis=1)"
   ]
  },
  {
   "cell_type": "markdown",
   "id": "bb980ef2",
   "metadata": {},
   "source": [
    "Разобъем списки в остальных столбцах:"
   ]
  },
  {
   "cell_type": "code",
   "execution_count": 30,
   "id": "528c37d7",
   "metadata": {},
   "outputs": [],
   "source": [
    "clean_data = clean_data.explode([\"text\", \"labels\", \"sents_pos\"], ignore_index=True)\n",
    "clean_data.to_csv(\"clean_tnsum.csv\")"
   ]
  },
  {
   "cell_type": "markdown",
   "id": "97c501ea",
   "metadata": {},
   "source": [
    "##### Обработка признаков"
   ]
  },
  {
   "cell_type": "code",
   "execution_count": null,
   "id": "0e82fc87",
   "metadata": {},
   "outputs": [
    {
     "data": {
      "text/plain": [
       "Text(0.5, 1.0, 'Длина текста')"
      ]
     },
     "execution_count": 54,
     "metadata": {},
     "output_type": "execute_result"
    },
    {
     "data": {
      "image/png": "[encoded data removed]",
      "text/plain": [
       "<Figure size 640x480 with 1 Axes>"
      ]
     },
     "metadata": {},
     "output_type": "display_data"
    }
   ],
   "source": [
    "sns.histplot(np.log(clean_data[\"text_len\"]))\n",
    "plt.title(\"Длина текста новостей\")\n",
    "plt.xlabel(\"ДЛина \")"
   ]
  },
  {
   "cell_type": "code",
   "execution_count": 2,
   "id": "4617314e",
   "metadata": {},
   "outputs": [
    {
     "data": {
      "text/html": [
       "<div>\n",
       "<style scoped>\n",
       "    .dataframe tbody tr th:only-of-type {\n",
       "        vertical-align: middle;\n",
       "    }\n",
       "\n",
       "    .dataframe tbody tr th {\n",
       "        vertical-align: top;\n",
       "    }\n",
       "\n",
       "    .dataframe thead th {\n",
       "        text-align: right;\n",
       "    }\n",
       "</style>\n",
       "<table border=\"1\" class=\"dataframe\">\n",
       "  <thead>\n",
       "    <tr style=\"text-align: right;\">\n",
       "      <th></th>\n",
       "      <th>text</th>\n",
       "      <th>text_len</th>\n",
       "      <th>sents_count</th>\n",
       "      <th>sents_pos</th>\n",
       "      <th>labels</th>\n",
       "    </tr>\n",
       "  </thead>\n",
       "  <tbody>\n",
       "    <tr>\n",
       "      <th>0</th>\n",
       "      <td>На фоне истощения запасов вооружения в западны...</td>\n",
       "      <td>2,287.000</td>\n",
       "      <td>17.000</td>\n",
       "      <td>1</td>\n",
       "      <td>1</td>\n",
       "    </tr>\n",
       "    <tr>\n",
       "      <th>1</th>\n",
       "      <td>Об этом 22 ноября сообщает газета Le Monde.</td>\n",
       "      <td>2,287.000</td>\n",
       "      <td>17.000</td>\n",
       "      <td>2</td>\n",
       "      <td>0</td>\n",
       "    </tr>\n",
       "    <tr>\n",
       "      <th>2</th>\n",
       "      <td>«Запасы боеприпасов в западных арсеналах истощ...</td>\n",
       "      <td>2,287.000</td>\n",
       "      <td>17.000</td>\n",
       "      <td>3</td>\n",
       "      <td>0</td>\n",
       "    </tr>\n",
       "    <tr>\n",
       "      <th>3</th>\n",
       "      <td>Отныне страны должны использовать свои критиче...</td>\n",
       "      <td>2,287.000</td>\n",
       "      <td>17.000</td>\n",
       "      <td>4</td>\n",
       "      <td>0</td>\n",
       "    </tr>\n",
       "    <tr>\n",
       "      <th>4</th>\n",
       "      <td>Отмечается, что страны — поставщики оружия сам...</td>\n",
       "      <td>2,287.000</td>\n",
       "      <td>17.000</td>\n",
       "      <td>5</td>\n",
       "      <td>0</td>\n",
       "    </tr>\n",
       "    <tr>\n",
       "      <th>...</th>\n",
       "      <td>...</td>\n",
       "      <td>...</td>\n",
       "      <td>...</td>\n",
       "      <td>...</td>\n",
       "      <td>...</td>\n",
       "    </tr>\n",
       "    <tr>\n",
       "      <th>111372</th>\n",
       "      <td>Об автомобиле Автомобиль оснащен двигателем Vo...</td>\n",
       "      <td>2,104.000</td>\n",
       "      <td>17.000</td>\n",
       "      <td>13</td>\n",
       "      <td>0</td>\n",
       "    </tr>\n",
       "    <tr>\n",
       "      <th>111373</th>\n",
       "      <td>\"ГАЗель NN\" комплектуется 6-ступенчатой коробк...</td>\n",
       "      <td>2,104.000</td>\n",
       "      <td>17.000</td>\n",
       "      <td>14</td>\n",
       "      <td>0</td>\n",
       "    </tr>\n",
       "    <tr>\n",
       "      <th>111374</th>\n",
       "      <td>\"Применение новой коробки передач позволило ул...</td>\n",
       "      <td>2,104.000</td>\n",
       "      <td>17.000</td>\n",
       "      <td>15</td>\n",
       "      <td>0</td>\n",
       "    </tr>\n",
       "    <tr>\n",
       "      <th>111375</th>\n",
       "      <td>Группа \"ГАЗ\" объединяет предприятия, выпускающ...</td>\n",
       "      <td>2,104.000</td>\n",
       "      <td>17.000</td>\n",
       "      <td>16</td>\n",
       "      <td>0</td>\n",
       "    </tr>\n",
       "    <tr>\n",
       "      <th>111376</th>\n",
       "      <td>Занимает лидирующие позиции на рынке РФ: свыше...</td>\n",
       "      <td>2,104.000</td>\n",
       "      <td>17.000</td>\n",
       "      <td>17</td>\n",
       "      <td>0</td>\n",
       "    </tr>\n",
       "  </tbody>\n",
       "</table>\n",
       "<p>111377 rows × 5 columns</p>\n",
       "</div>"
      ],
      "text/plain": [
       "                                                     text  text_len  \\\n",
       "0       На фоне истощения запасов вооружения в западны... 2,287.000   \n",
       "1             Об этом 22 ноября сообщает газета Le Monde. 2,287.000   \n",
       "2       «Запасы боеприпасов в западных арсеналах истощ... 2,287.000   \n",
       "3       Отныне страны должны использовать свои критиче... 2,287.000   \n",
       "4       Отмечается, что страны — поставщики оружия сам... 2,287.000   \n",
       "...                                                   ...       ...   \n",
       "111372  Об автомобиле Автомобиль оснащен двигателем Vo... 2,104.000   \n",
       "111373  \"ГАЗель NN\" комплектуется 6-ступенчатой коробк... 2,104.000   \n",
       "111374  \"Применение новой коробки передач позволило ул... 2,104.000   \n",
       "111375  Группа \"ГАЗ\" объединяет предприятия, выпускающ... 2,104.000   \n",
       "111376  Занимает лидирующие позиции на рынке РФ: свыше... 2,104.000   \n",
       "\n",
       "        sents_count  sents_pos  labels  \n",
       "0            17.000          1       1  \n",
       "1            17.000          2       0  \n",
       "2            17.000          3       0  \n",
       "3            17.000          4       0  \n",
       "4            17.000          5       0  \n",
       "...             ...        ...     ...  \n",
       "111372       17.000         13       0  \n",
       "111373       17.000         14       0  \n",
       "111374       17.000         15       0  \n",
       "111375       17.000         16       0  \n",
       "111376       17.000         17       0  \n",
       "\n",
       "[111377 rows x 5 columns]"
      ]
     },
     "execution_count": 2,
     "metadata": {},
     "output_type": "execute_result"
    }
   ],
   "source": [
    "preprocessed_data = pd.read_csv(\"clean_tnsum.csv\", index_col=0)\n",
    "preprocessed_data"
   ]
  },
  {
   "cell_type": "markdown",
   "id": "55ef5813",
   "metadata": {},
   "source": [
    "Признак наличия цитаты:"
   ]
  },
  {
   "cell_type": "code",
   "execution_count": 3,
   "id": "f9cf4bae",
   "metadata": {},
   "outputs": [
    {
     "name": "stdout",
     "output_type": "stream",
     "text": [
      "Всего рефератов: 19044\n",
      "Рефератов содержит цитаты: 1744 (9.16 %)\n",
      "Всего предложений: 111377\n",
      "Предложений с цитатами: 23525 (21.12 %)\n"
     ]
    }
   ],
   "source": [
    "quote_pat = \"«|\\\"|\\'\"\n",
    "\n",
    "preprocessed_data[\"have_quote\"] = preprocessed_data[\"text\"].str.contains(quote_pat, regex=True, na=False)\n",
    "\n",
    "total_summ = len(preprocessed_data[preprocessed_data[\"labels\"] == 1])\n",
    "summ_have_quotes = sum(preprocessed_data[preprocessed_data[\"labels\"] == 1][\"have_quote\"])\n",
    "\n",
    "print(\"Всего рефератов:\", total_summ)\n",
    "print(\"Рефератов содержит цитаты:\", summ_have_quotes, f\"({summ_have_quotes / total_summ * 100:.2f} %)\")\n",
    "\n",
    "total_sents = len(preprocessed_data)\n",
    "sents_have_quotes = sum(preprocessed_data[\"have_quote\"])\n",
    "\n",
    "print(\"Всего предложений:\", total_sents)\n",
    "print(\"Предложений с цитатами:\", sents_have_quotes, f\"({sents_have_quotes / total_sents * 100:.2f} %)\")"
   ]
  },
  {
   "cell_type": "markdown",
   "id": "c40ce6fa",
   "metadata": {},
   "source": [
    "90 % рефератов не содержит цитаты поэтому их наличие может являться значимым для прогнозирования признаком."
   ]
  },
  {
   "cell_type": "markdown",
   "id": "88f29ae4",
   "metadata": {},
   "source": [
    "Наличие чисел:"
   ]
  },
  {
   "cell_type": "code",
   "execution_count": 4,
   "id": "d07db80d",
   "metadata": {},
   "outputs": [
    {
     "name": "stdout",
     "output_type": "stream",
     "text": [
      "Всего рефератов: 19044\n",
      "Рефератов содержит числа: 10187 (53.49 %)\n",
      "Всего предложений: 111377\n",
      "Предложений с числами: 50853 (45.66 %)\n"
     ]
    }
   ],
   "source": [
    "numb_pat = r\"\\d+\"\n",
    "\n",
    "preprocessed_data[\"have_number\"] = preprocessed_data[\"text\"].str.contains(numb_pat, regex=True, na=False)\n",
    "\n",
    "summ_have_number = sum(preprocessed_data[preprocessed_data[\"labels\"] == 1][\"have_number\"])\n",
    "\n",
    "print(\"Всего рефератов:\", total_summ)\n",
    "print(\"Рефератов содержит числа:\", summ_have_number, f\"({summ_have_number / total_summ * 100:.2f} %)\")\n",
    "\n",
    "sents_have_number = sum(preprocessed_data[\"have_number\"])\n",
    "\n",
    "print(\"Всего предложений:\", total_sents)\n",
    "print(\"Предложений с числами:\", sents_have_number, f\"({sents_have_number / total_sents * 100:.2f} %)\")"
   ]
  },
  {
   "cell_type": "markdown",
   "id": "6977d276",
   "metadata": {},
   "source": [
    "Как видно, почти половина предложений в реферате и во всем датасете содержит цифр, поэтому на основание этого признака нельзя сделать более точный прогноз, а следовательно данный признак не следует включать в датасет:"
   ]
  },
  {
   "cell_type": "code",
   "execution_count": 5,
   "id": "2d148311",
   "metadata": {},
   "outputs": [],
   "source": [
    "preprocessed_data = preprocessed_data.drop(\"have_number\", axis=1)"
   ]
  },
  {
   "cell_type": "markdown",
   "id": "03ca4484",
   "metadata": {},
   "source": [
    "Добавим в качестве признака нормализованную длину предложения:"
   ]
  },
  {
   "cell_type": "code",
   "execution_count": 6,
   "id": "dcb5ab1d",
   "metadata": {},
   "outputs": [],
   "source": [
    "preprocessed_data[\"sent_len\"] = preprocessed_data.apply(\n",
    "    lambda row: -np.log(len(row) / row[\"text_len\"]),\n",
    "    axis=1\n",
    ")"
   ]
  },
  {
   "cell_type": "code",
   "execution_count": 36,
   "id": "42834e48",
   "metadata": {},
   "outputs": [
    {
     "data": {
      "text/plain": [
       "Text(0.5, 1.0, 'Длины предложений')"
      ]
     },
     "execution_count": 36,
     "metadata": {},
     "output_type": "execute_result"
    },
    {
     "data": {
      "image/png": "[encoded data removed]",
      "text/plain": [
       "<Figure size 640x480 with 1 Axes>"
      ]
     },
     "metadata": {},
     "output_type": "display_data"
    }
   ],
   "source": [
    "sns.histplot(preprocessed_data[\"sent_len\"])\n",
    "plt.title(\"Длины предложений\")"
   ]
  },
  {
   "cell_type": "markdown",
   "id": "58a637f7",
   "metadata": {},
   "source": [
    "Также добавим нормализованные позиции предложений в тексте:"
   ]
  },
  {
   "cell_type": "code",
   "execution_count": 7,
   "id": "d4a6d01c",
   "metadata": {},
   "outputs": [],
   "source": [
    "preprocessed_data[\"sent_pos\"] = preprocessed_data.apply(\n",
    "    lambda row: row[\"sents_pos\"] / row[\"sents_count\"] * 100,\n",
    "    axis=1\n",
    ")"
   ]
  },
  {
   "cell_type": "markdown",
   "id": "875d2216",
   "metadata": {},
   "source": [
    "Удалим ненужные столбцы:"
   ]
  },
  {
   "cell_type": "code",
   "execution_count": 8,
   "id": "89058f05",
   "metadata": {},
   "outputs": [],
   "source": [
    "preprocessed_data = preprocessed_data.drop(\n",
    "    [\"text_len\", \"sents_count\", \"sents_pos\"],\n",
    "    axis=1\n",
    ")"
   ]
  },
  {
   "cell_type": "markdown",
   "id": "9384f10c",
   "metadata": {},
   "source": [
    "Добавим категориальные данные. Зададим следующее количество категорий для позиции и длины:"
   ]
  },
  {
   "cell_type": "code",
   "execution_count": 9,
   "id": "25bd17e1",
   "metadata": {},
   "outputs": [],
   "source": [
    "pos_cats = 1"
   ]
  },
  {
   "cell_type": "code",
   "execution_count": 62,
   "id": "44c68e59",
   "metadata": {},
   "outputs": [
    {
     "data": {
      "text/plain": [
       "Text(0, 0.5, 'Кол-во предл.')"
      ]
     },
     "execution_count": 62,
     "metadata": {},
     "output_type": "execute_result"
    },
    {
     "data": {
      "image/png": "[encoded data removed]",
      "text/plain": [
       "<Figure size 640x480 with 1 Axes>"
      ]
     },
     "metadata": {},
     "output_type": "display_data"
    }
   ],
   "source": [
    "sns.histplot(\n",
    "    preprocessed_data[preprocessed_data[\"labels\"]==1][\"sent_pos\"],\n",
    "    bins=pos_cats\n",
    ")\n",
    "plt.title(\"Позиция предложений в реферате\")\n",
    "plt.xlabel(\"Позиция\")\n",
    "plt.ylabel(\"Кол-во предл.\")"
   ]
  },
  {
   "cell_type": "code",
   "execution_count": 42,
   "id": "b7fec53d",
   "metadata": {},
   "outputs": [
    {
     "data": {
      "text/plain": [
       "Text(0, 0.5, 'Кол-во предл.')"
      ]
     },
     "execution_count": 42,
     "metadata": {},
     "output_type": "execute_result"
    },
    {
     "data": {
      "image/png": "[encoded data removed]",
      "text/plain": [
       "<Figure size 640x480 with 1 Axes>"
      ]
     },
     "metadata": {},
     "output_type": "display_data"
    }
   ],
   "source": [
    "sns.histplot(\n",
    "    preprocessed_data[preprocessed_data[\"labels\"]==0][\"sent_pos\"],\n",
    "    bins=pos_cats,\n",
    "    color=\"tomato\")\n",
    "plt.title(\"Позиция предложения не в реферате\")\n",
    "plt.xlabel(\"Позиция\")\n",
    "plt.ylabel(\"Кол-во предл.\")"
   ]
  },
  {
   "cell_type": "markdown",
   "id": "13c25594",
   "metadata": {},
   "source": [
    "Зададим количество категорий для длины предложения:"
   ]
  },
  {
   "cell_type": "code",
   "execution_count": 11,
   "id": "7ac5a91e",
   "metadata": {},
   "outputs": [],
   "source": [
    "len_cats = 1"
   ]
  },
  {
   "cell_type": "code",
   "execution_count": 57,
   "id": "b3ab64d3",
   "metadata": {},
   "outputs": [
    {
     "data": {
      "text/plain": [
       "Text(0, 0.5, 'Кол-во предл.')"
      ]
     },
     "execution_count": 57,
     "metadata": {},
     "output_type": "execute_result"
    },
    {
     "data": {
      "image/png": "[encoded data removed]",
      "text/plain": [
       "<Figure size 640x480 with 1 Axes>"
      ]
     },
     "metadata": {},
     "output_type": "display_data"
    }
   ],
   "source": [
    "sns.histplot(\n",
    "    preprocessed_data[preprocessed_data[\"labels\"]==1][\"sent_len\"], \n",
    "    bins=len_cats\n",
    ")\n",
    "plt.title(\"Длина предложений в реферате\")\n",
    "plt.xlabel(\"Длина (норм.)\")\n",
    "plt.ylabel(\"Кол-во предл.\")"
   ]
  },
  {
   "cell_type": "code",
   "execution_count": 45,
   "id": "d3acff0c",
   "metadata": {},
   "outputs": [
    {
     "data": {
      "text/plain": [
       "Text(0, 0.5, 'Кол-во предл.')"
      ]
     },
     "execution_count": 45,
     "metadata": {},
     "output_type": "execute_result"
    },
    {
     "data": {
      "image/png": "[encoded data removed]",
      "text/plain": [
       "<Figure size 640x480 with 1 Axes>"
      ]
     },
     "metadata": {},
     "output_type": "display_data"
    }
   ],
   "source": [
    "sns.histplot(\n",
    "    preprocessed_data[preprocessed_data[\"labels\"]==0][\"sent_len\"], \n",
    "    bins=len_cats,\n",
    "    color=\"tomato\"\n",
    ")\n",
    "plt.title(\"Длина предложений не в реферате\")\n",
    "plt.xlabel(\"Длина (норм.)\")\n",
    "plt.ylabel(\"Кол-во предл.\")"
   ]
  },
  {
   "cell_type": "markdown",
   "id": "472a53c9",
   "metadata": {},
   "source": [
    "Как будто длина одинакова в обоих случаях... "
   ]
  },
  {
   "cell_type": "code",
   "execution_count": 46,
   "id": "dd8c1512",
   "metadata": {},
   "outputs": [
    {
     "data": {
      "text/plain": [
       "count   92,333.000\n",
       "mean         5.919\n",
       "std          0.733\n",
       "min          3.471\n",
       "25%          5.419\n",
       "50%          5.781\n",
       "75%          6.300\n",
       "max          8.605\n",
       "Name: sent_len, dtype: float64"
      ]
     },
     "execution_count": 46,
     "metadata": {},
     "output_type": "execute_result"
    }
   ],
   "source": [
    "preprocessed_data[preprocessed_data[\"labels\"]==0][\"sent_len\"].describe()"
   ]
  },
  {
   "cell_type": "code",
   "execution_count": 47,
   "id": "569bc068",
   "metadata": {},
   "outputs": [
    {
     "data": {
      "text/plain": [
       "count   19,044.000\n",
       "mean         5.504\n",
       "std          0.570\n",
       "min          3.308\n",
       "25%          5.140\n",
       "50%          5.465\n",
       "75%          5.817\n",
       "max          8.605\n",
       "Name: sent_len, dtype: float64"
      ]
     },
     "execution_count": 47,
     "metadata": {},
     "output_type": "execute_result"
    }
   ],
   "source": [
    "preprocessed_data[preprocessed_data[\"labels\"]==1][\"sent_len\"].describe()"
   ]
  },
  {
   "cell_type": "markdown",
   "id": "2ffb0446",
   "metadata": {},
   "source": [
    "Разобъем данные по категориям:"
   ]
  },
  {
   "cell_type": "code",
   "execution_count": 12,
   "id": "d27e7495",
   "metadata": {},
   "outputs": [
    {
     "data": {
      "text/html": [
       "<div>\n",
       "<style scoped>\n",
       "    .dataframe tbody tr th:only-of-type {\n",
       "        vertical-align: middle;\n",
       "    }\n",
       "\n",
       "    .dataframe tbody tr th {\n",
       "        vertical-align: top;\n",
       "    }\n",
       "\n",
       "    .dataframe thead th {\n",
       "        text-align: right;\n",
       "    }\n",
       "</style>\n",
       "<table border=\"1\" class=\"dataframe\">\n",
       "  <thead>\n",
       "    <tr style=\"text-align: right;\">\n",
       "      <th></th>\n",
       "      <th>categorized_len_(3.303, 8.605]</th>\n",
       "    </tr>\n",
       "  </thead>\n",
       "  <tbody>\n",
       "    <tr>\n",
       "      <th>0</th>\n",
       "      <td>True</td>\n",
       "    </tr>\n",
       "    <tr>\n",
       "      <th>1</th>\n",
       "      <td>True</td>\n",
       "    </tr>\n",
       "    <tr>\n",
       "      <th>2</th>\n",
       "      <td>True</td>\n",
       "    </tr>\n",
       "    <tr>\n",
       "      <th>3</th>\n",
       "      <td>True</td>\n",
       "    </tr>\n",
       "    <tr>\n",
       "      <th>4</th>\n",
       "      <td>True</td>\n",
       "    </tr>\n",
       "    <tr>\n",
       "      <th>...</th>\n",
       "      <td>...</td>\n",
       "    </tr>\n",
       "    <tr>\n",
       "      <th>111372</th>\n",
       "      <td>True</td>\n",
       "    </tr>\n",
       "    <tr>\n",
       "      <th>111373</th>\n",
       "      <td>True</td>\n",
       "    </tr>\n",
       "    <tr>\n",
       "      <th>111374</th>\n",
       "      <td>True</td>\n",
       "    </tr>\n",
       "    <tr>\n",
       "      <th>111375</th>\n",
       "      <td>True</td>\n",
       "    </tr>\n",
       "    <tr>\n",
       "      <th>111376</th>\n",
       "      <td>True</td>\n",
       "    </tr>\n",
       "  </tbody>\n",
       "</table>\n",
       "<p>111377 rows × 1 columns</p>\n",
       "</div>"
      ],
      "text/plain": [
       "        categorized_len_(3.303, 8.605]\n",
       "0                                 True\n",
       "1                                 True\n",
       "2                                 True\n",
       "3                                 True\n",
       "4                                 True\n",
       "...                                ...\n",
       "111372                            True\n",
       "111373                            True\n",
       "111374                            True\n",
       "111375                            True\n",
       "111376                            True\n",
       "\n",
       "[111377 rows x 1 columns]"
      ]
     },
     "execution_count": 12,
     "metadata": {},
     "output_type": "execute_result"
    }
   ],
   "source": [
    "categorized_len = pd.cut(preprocessed_data[\"sent_len\"], len_cats)\n",
    "categorized_len_columns = pd.get_dummies(categorized_len, prefix=\"categorized_len\")\n",
    "categorized_len_columns"
   ]
  },
  {
   "cell_type": "code",
   "execution_count": 13,
   "id": "d41c248c",
   "metadata": {},
   "outputs": [
    {
     "data": {
      "text/html": [
       "<div>\n",
       "<style scoped>\n",
       "    .dataframe tbody tr th:only-of-type {\n",
       "        vertical-align: middle;\n",
       "    }\n",
       "\n",
       "    .dataframe tbody tr th {\n",
       "        vertical-align: top;\n",
       "    }\n",
       "\n",
       "    .dataframe thead th {\n",
       "        text-align: right;\n",
       "    }\n",
       "</style>\n",
       "<table border=\"1\" class=\"dataframe\">\n",
       "  <thead>\n",
       "    <tr style=\"text-align: right;\">\n",
       "      <th></th>\n",
       "      <th>categorized_pos_(0.393, 100.0]</th>\n",
       "    </tr>\n",
       "  </thead>\n",
       "  <tbody>\n",
       "    <tr>\n",
       "      <th>0</th>\n",
       "      <td>True</td>\n",
       "    </tr>\n",
       "    <tr>\n",
       "      <th>1</th>\n",
       "      <td>True</td>\n",
       "    </tr>\n",
       "    <tr>\n",
       "      <th>2</th>\n",
       "      <td>True</td>\n",
       "    </tr>\n",
       "    <tr>\n",
       "      <th>3</th>\n",
       "      <td>True</td>\n",
       "    </tr>\n",
       "    <tr>\n",
       "      <th>4</th>\n",
       "      <td>True</td>\n",
       "    </tr>\n",
       "    <tr>\n",
       "      <th>...</th>\n",
       "      <td>...</td>\n",
       "    </tr>\n",
       "    <tr>\n",
       "      <th>111372</th>\n",
       "      <td>True</td>\n",
       "    </tr>\n",
       "    <tr>\n",
       "      <th>111373</th>\n",
       "      <td>True</td>\n",
       "    </tr>\n",
       "    <tr>\n",
       "      <th>111374</th>\n",
       "      <td>True</td>\n",
       "    </tr>\n",
       "    <tr>\n",
       "      <th>111375</th>\n",
       "      <td>True</td>\n",
       "    </tr>\n",
       "    <tr>\n",
       "      <th>111376</th>\n",
       "      <td>True</td>\n",
       "    </tr>\n",
       "  </tbody>\n",
       "</table>\n",
       "<p>111377 rows × 1 columns</p>\n",
       "</div>"
      ],
      "text/plain": [
       "        categorized_pos_(0.393, 100.0]\n",
       "0                                 True\n",
       "1                                 True\n",
       "2                                 True\n",
       "3                                 True\n",
       "4                                 True\n",
       "...                                ...\n",
       "111372                            True\n",
       "111373                            True\n",
       "111374                            True\n",
       "111375                            True\n",
       "111376                            True\n",
       "\n",
       "[111377 rows x 1 columns]"
      ]
     },
     "execution_count": 13,
     "metadata": {},
     "output_type": "execute_result"
    }
   ],
   "source": [
    "categorized_pos = pd.cut(preprocessed_data[\"sent_pos\"], pos_cats)\n",
    "categorized_pos_columns = pd.get_dummies(categorized_pos, prefix=\"categorized_pos\")\n",
    "categorized_pos_columns"
   ]
  },
  {
   "cell_type": "markdown",
   "id": "38457479",
   "metadata": {},
   "source": [
    "Объединим все столбцы в датафрейм:"
   ]
  },
  {
   "cell_type": "code",
   "execution_count": 71,
   "id": "84f289b0",
   "metadata": {},
   "outputs": [],
   "source": [
    "categorized_data = pd.concat(\n",
    "    [preprocessed_data,\n",
    "     categorized_len_columns,\n",
    "     categorized_pos_columns\n",
    "    ],\n",
    "    axis=1\n",
    ")\n",
    "categorized_data.to_csv(f\"tnsum_{len(categorized_data.columns)}.csv\")"
   ]
  },
  {
   "cell_type": "markdown",
   "id": "b679a5b3",
   "metadata": {},
   "source": [
    "Без длины:"
   ]
  },
  {
   "cell_type": "code",
   "execution_count": 14,
   "id": "722932dd",
   "metadata": {},
   "outputs": [],
   "source": [
    "categorized_data = pd.concat(\n",
    "    [preprocessed_data,\n",
    "     categorized_pos_columns],\n",
    "    axis=1\n",
    ")\n",
    "categorized_data.to_csv(f\"tnsum_{len(categorized_data.columns)}.csv\")"
   ]
  },
  {
   "cell_type": "markdown",
   "id": "7c06d071",
   "metadata": {},
   "source": [
    "Без категорий:"
   ]
  },
  {
   "cell_type": "code",
   "execution_count": 9,
   "id": "049b510c",
   "metadata": {},
   "outputs": [],
   "source": [
    "preprocessed_data = preprocessed_data.drop(\"sents_pos\", axis=1)"
   ]
  },
  {
   "cell_type": "code",
   "execution_count": 10,
   "id": "8629e1fa",
   "metadata": {},
   "outputs": [
    {
     "data": {
      "text/plain": [
       "Index(['text', 'text_len', 'sents_count', 'labels', 'have_quote', 'sent_len',\n",
       "       'sent_pos'],\n",
       "      dtype='object')"
      ]
     },
     "execution_count": 10,
     "metadata": {},
     "output_type": "execute_result"
    }
   ],
   "source": [
    "preprocessed_data.columns"
   ]
  },
  {
   "cell_type": "code",
   "execution_count": 11,
   "id": "786c8286",
   "metadata": {},
   "outputs": [],
   "source": [
    "preprocessed_data.to_csv(\"uncat_tnsum.csv\")"
   ]
  },
  {
   "cell_type": "markdown",
   "id": "d2f0a58c",
   "metadata": {},
   "source": [
    "Дальше не знаю что :("
   ]
  }
 ],
 "metadata": {
  "kernelspec": {
   "display_name": ".venv",
   "language": "python",
   "name": "python3"
  },
  "language_info": {
   "codemirror_mode": {
    "name": "ipython",
    "version": 3
   },
   "file_extension": ".py",
   "mimetype": "text/x-python",
   "name": "python",
   "nbconvert_exporter": "python",
   "pygments_lexer": "ipython3",
   "version": "3.12.3"
  }
 },
 "nbformat": 4,
 "nbformat_minor": 5
}
